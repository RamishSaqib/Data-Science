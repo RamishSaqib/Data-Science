{
 "cells": [
  {
   "cell_type": "code",
   "execution_count": 2,
   "metadata": {},
   "outputs": [],
   "source": [
    "import pandas as pd\n",
    "import matplotlib.pyplot as plt\n",
    "import statsmodels.formula.api as smf\n",
    "import seaborn as sns\n",
    "import numpy as np\n",
    "from sklearn.model_selection import train_test_split\n",
    "from sklearn import datasets, linear_model\n",
    "from sklearn.model_selection import KFold\n",
    "\n",
    "\n",
    "%matplotlib inline\n",
    "pd.set_option('display.max_columns', None)"
   ]
  },
  {
   "cell_type": "code",
   "execution_count": 3,
   "metadata": {},
   "outputs": [],
   "source": [
    "hiv = pd.read_csv(\"DOHMH_HIV_AIDS_Annual_Report.csv\")"
   ]
  },
  {
   "cell_type": "code",
   "execution_count": 4,
   "metadata": {},
   "outputs": [],
   "source": [
    "hiv[\"Year\"] = pd.to_datetime(hiv[\"Year\"])"
   ]
  },
  {
   "cell_type": "code",
   "execution_count": 7,
   "metadata": {},
   "outputs": [
    {
     "data": {
      "text/html": [
       "<div>\n",
       "<style scoped>\n",
       "    .dataframe tbody tr th:only-of-type {\n",
       "        vertical-align: middle;\n",
       "    }\n",
       "\n",
       "    .dataframe tbody tr th {\n",
       "        vertical-align: top;\n",
       "    }\n",
       "\n",
       "    .dataframe thead th {\n",
       "        text-align: right;\n",
       "    }\n",
       "</style>\n",
       "<table border=\"1\" class=\"dataframe\">\n",
       "  <thead>\n",
       "    <tr style=\"text-align: right;\">\n",
       "      <th></th>\n",
       "      <th>HIV diagnoses</th>\n",
       "      <th>HIV diagnosis rate</th>\n",
       "      <th>Concurrent diagnoses</th>\n",
       "      <th>% linked to care within 3 months</th>\n",
       "      <th>AIDS diagnoses</th>\n",
       "      <th>AIDS diagnosis rate</th>\n",
       "      <th>PLWDHI prevalence</th>\n",
       "      <th>% viral suppression</th>\n",
       "      <th>Deaths</th>\n",
       "      <th>Death rate</th>\n",
       "      <th>HIV-related death rate</th>\n",
       "      <th>Non-HIV-related death rate</th>\n",
       "    </tr>\n",
       "  </thead>\n",
       "  <tbody>\n",
       "    <tr>\n",
       "      <th>count</th>\n",
       "      <td>6005.000000</td>\n",
       "      <td>6005.000000</td>\n",
       "      <td>6005.000000</td>\n",
       "      <td>6005.000000</td>\n",
       "      <td>6005.000000</td>\n",
       "      <td>6005.000000</td>\n",
       "      <td>6005.000000</td>\n",
       "      <td>6005.000000</td>\n",
       "      <td>6005.000000</td>\n",
       "      <td>6005.000000</td>\n",
       "      <td>6005.000000</td>\n",
       "      <td>6005.000000</td>\n",
       "    </tr>\n",
       "    <tr>\n",
       "      <th>mean</th>\n",
       "      <td>26.494588</td>\n",
       "      <td>119.501499</td>\n",
       "      <td>5.095087</td>\n",
       "      <td>25399.316403</td>\n",
       "      <td>33.299917</td>\n",
       "      <td>122.763697</td>\n",
       "      <td>317.515254</td>\n",
       "      <td>2655.912073</td>\n",
       "      <td>49.447460</td>\n",
       "      <td>10.341632</td>\n",
       "      <td>20003.185079</td>\n",
       "      <td>20005.061865</td>\n",
       "    </tr>\n",
       "    <tr>\n",
       "      <th>std</th>\n",
       "      <td>130.995148</td>\n",
       "      <td>2883.974280</td>\n",
       "      <td>24.492574</td>\n",
       "      <td>43470.652710</td>\n",
       "      <td>1292.863435</td>\n",
       "      <td>3159.088051</td>\n",
       "      <td>5616.414102</td>\n",
       "      <td>15846.355601</td>\n",
       "      <td>1826.287128</td>\n",
       "      <td>16.379212</td>\n",
       "      <td>40001.239238</td>\n",
       "      <td>40000.301359</td>\n",
       "    </tr>\n",
       "    <tr>\n",
       "      <th>min</th>\n",
       "      <td>0.000000</td>\n",
       "      <td>0.000000</td>\n",
       "      <td>0.000000</td>\n",
       "      <td>0.000000</td>\n",
       "      <td>0.000000</td>\n",
       "      <td>0.000000</td>\n",
       "      <td>0.000000</td>\n",
       "      <td>0.000000</td>\n",
       "      <td>0.000000</td>\n",
       "      <td>0.000000</td>\n",
       "      <td>0.000000</td>\n",
       "      <td>0.000000</td>\n",
       "    </tr>\n",
       "    <tr>\n",
       "      <th>25%</th>\n",
       "      <td>0.000000</td>\n",
       "      <td>0.000000</td>\n",
       "      <td>0.000000</td>\n",
       "      <td>67.000000</td>\n",
       "      <td>0.000000</td>\n",
       "      <td>0.000000</td>\n",
       "      <td>0.200000</td>\n",
       "      <td>71.000000</td>\n",
       "      <td>0.000000</td>\n",
       "      <td>0.000000</td>\n",
       "      <td>0.000000</td>\n",
       "      <td>0.000000</td>\n",
       "    </tr>\n",
       "    <tr>\n",
       "      <th>50%</th>\n",
       "      <td>3.000000</td>\n",
       "      <td>18.500000</td>\n",
       "      <td>1.000000</td>\n",
       "      <td>83.000000</td>\n",
       "      <td>2.000000</td>\n",
       "      <td>10.400000</td>\n",
       "      <td>0.600000</td>\n",
       "      <td>79.000000</td>\n",
       "      <td>1.000000</td>\n",
       "      <td>6.000000</td>\n",
       "      <td>3.000000</td>\n",
       "      <td>5.500000</td>\n",
       "    </tr>\n",
       "    <tr>\n",
       "      <th>75%</th>\n",
       "      <td>13.000000</td>\n",
       "      <td>49.400000</td>\n",
       "      <td>3.000000</td>\n",
       "      <td>99999.000000</td>\n",
       "      <td>8.000000</td>\n",
       "      <td>30.600000</td>\n",
       "      <td>1.500000</td>\n",
       "      <td>87.000000</td>\n",
       "      <td>8.000000</td>\n",
       "      <td>14.100000</td>\n",
       "      <td>14.400000</td>\n",
       "      <td>22.100000</td>\n",
       "    </tr>\n",
       "    <tr>\n",
       "      <th>max</th>\n",
       "      <td>3379.000000</td>\n",
       "      <td>99999.000000</td>\n",
       "      <td>640.000000</td>\n",
       "      <td>99999.000000</td>\n",
       "      <td>99999.000000</td>\n",
       "      <td>99999.000000</td>\n",
       "      <td>99999.000000</td>\n",
       "      <td>99999.000000</td>\n",
       "      <td>99999.000000</td>\n",
       "      <td>263.200000</td>\n",
       "      <td>99999.000000</td>\n",
       "      <td>99999.000000</td>\n",
       "    </tr>\n",
       "  </tbody>\n",
       "</table>\n",
       "</div>"
      ],
      "text/plain": [
       "       HIV diagnoses  HIV diagnosis rate  Concurrent diagnoses  \\\n",
       "count    6005.000000         6005.000000           6005.000000   \n",
       "mean       26.494588          119.501499              5.095087   \n",
       "std       130.995148         2883.974280             24.492574   \n",
       "min         0.000000            0.000000              0.000000   \n",
       "25%         0.000000            0.000000              0.000000   \n",
       "50%         3.000000           18.500000              1.000000   \n",
       "75%        13.000000           49.400000              3.000000   \n",
       "max      3379.000000        99999.000000            640.000000   \n",
       "\n",
       "       % linked to care within 3 months  AIDS diagnoses  AIDS diagnosis rate  \\\n",
       "count                       6005.000000     6005.000000          6005.000000   \n",
       "mean                       25399.316403       33.299917           122.763697   \n",
       "std                        43470.652710     1292.863435          3159.088051   \n",
       "min                            0.000000        0.000000             0.000000   \n",
       "25%                           67.000000        0.000000             0.000000   \n",
       "50%                           83.000000        2.000000            10.400000   \n",
       "75%                        99999.000000        8.000000            30.600000   \n",
       "max                        99999.000000    99999.000000         99999.000000   \n",
       "\n",
       "       PLWDHI prevalence  % viral suppression        Deaths   Death rate  \\\n",
       "count        6005.000000          6005.000000   6005.000000  6005.000000   \n",
       "mean          317.515254          2655.912073     49.447460    10.341632   \n",
       "std          5616.414102         15846.355601   1826.287128    16.379212   \n",
       "min             0.000000             0.000000      0.000000     0.000000   \n",
       "25%             0.200000            71.000000      0.000000     0.000000   \n",
       "50%             0.600000            79.000000      1.000000     6.000000   \n",
       "75%             1.500000            87.000000      8.000000    14.100000   \n",
       "max         99999.000000         99999.000000  99999.000000   263.200000   \n",
       "\n",
       "       HIV-related death rate  Non-HIV-related death rate  \n",
       "count             6005.000000                 6005.000000  \n",
       "mean             20003.185079                20005.061865  \n",
       "std              40001.239238                40000.301359  \n",
       "min                  0.000000                    0.000000  \n",
       "25%                  0.000000                    0.000000  \n",
       "50%                  3.000000                    5.500000  \n",
       "75%                 14.400000                   22.100000  \n",
       "max              99999.000000                99999.000000  "
      ]
     },
     "execution_count": 7,
     "metadata": {},
     "output_type": "execute_result"
    }
   ],
   "source": [
    "hiv.describe()"
   ]
  },
  {
   "cell_type": "code",
   "execution_count": 21,
   "metadata": {},
   "outputs": [
    {
     "data": {
      "text/html": [
       "<table class=\"simpletable\">\n",
       "<caption>OLS Regression Results</caption>\n",
       "<tr>\n",
       "  <th>Dep. Variable:</th>    <td>Q('% linked to care within 3 months')</td> <th>  R-squared:         </th> <td>   0.014</td> \n",
       "</tr>\n",
       "<tr>\n",
       "  <th>Model:</th>                             <td>OLS</td>                  <th>  Adj. R-squared:    </th> <td>   0.014</td> \n",
       "</tr>\n",
       "<tr>\n",
       "  <th>Method:</th>                       <td>Least Squares</td>             <th>  F-statistic:       </th> <td>   43.74</td> \n",
       "</tr>\n",
       "<tr>\n",
       "  <th>Date:</th>                       <td>Tue, 05 Nov 2019</td>            <th>  Prob (F-statistic):</th> <td>1.38e-19</td> \n",
       "</tr>\n",
       "<tr>\n",
       "  <th>Time:</th>                           <td>13:17:08</td>                <th>  Log-Likelihood:    </th> <td> -72609.</td> \n",
       "</tr>\n",
       "<tr>\n",
       "  <th>No. Observations:</th>                <td>  6005</td>                 <th>  AIC:               </th> <td>1.452e+05</td>\n",
       "</tr>\n",
       "<tr>\n",
       "  <th>Df Residuals:</th>                    <td>  6002</td>                 <th>  BIC:               </th> <td>1.452e+05</td>\n",
       "</tr>\n",
       "<tr>\n",
       "  <th>Df Model:</th>                        <td>     2</td>                 <th>                     </th>     <td> </td>    \n",
       "</tr>\n",
       "<tr>\n",
       "  <th>Covariance Type:</th>                <td>nonrobust</td>               <th>                     </th>     <td> </td>    \n",
       "</tr>\n",
       "</table>\n",
       "<table class=\"simpletable\">\n",
       "<tr>\n",
       "           <td></td>              <th>coef</th>     <th>std err</th>      <th>t</th>      <th>P>|t|</th>  <th>[0.025</th>    <th>0.975]</th>  \n",
       "</tr>\n",
       "<tr>\n",
       "  <th>Intercept</th>           <td> 2.642e+04</td> <td>  568.350</td> <td>   46.490</td> <td> 0.000</td> <td> 2.53e+04</td> <td> 2.75e+04</td>\n",
       "</tr>\n",
       "<tr>\n",
       "  <th>Q('HIV diagnoses')</th>  <td>  -39.5467</td> <td>    4.260</td> <td>   -9.283</td> <td> 0.000</td> <td>  -47.898</td> <td>  -31.195</td>\n",
       "</tr>\n",
       "<tr>\n",
       "  <th>Q('AIDS diagnoses')</th> <td>    0.7343</td> <td>    0.432</td> <td>    1.701</td> <td> 0.089</td> <td>   -0.112</td> <td>    1.580</td>\n",
       "</tr>\n",
       "</table>\n",
       "<table class=\"simpletable\">\n",
       "<tr>\n",
       "  <th>Omnibus:</th>       <td>1228.682</td> <th>  Durbin-Watson:     </th> <td>   1.757</td> \n",
       "</tr>\n",
       "<tr>\n",
       "  <th>Prob(Omnibus):</th>  <td> 0.000</td>  <th>  Jarque-Bera (JB):  </th> <td>1376.706</td> \n",
       "</tr>\n",
       "<tr>\n",
       "  <th>Skew:</th>           <td> 1.112</td>  <th>  Prob(JB):          </th> <td>1.13e-299</td>\n",
       "</tr>\n",
       "<tr>\n",
       "  <th>Kurtosis:</th>       <td> 2.252</td>  <th>  Cond. No.          </th> <td>1.32e+03</td> \n",
       "</tr>\n",
       "</table><br/><br/>Warnings:<br/>[1] Standard Errors assume that the covariance matrix of the errors is correctly specified.<br/>[2] The condition number is large, 1.32e+03. This might indicate that there are<br/>strong multicollinearity or other numerical problems."
      ],
      "text/plain": [
       "<class 'statsmodels.iolib.summary.Summary'>\n",
       "\"\"\"\n",
       "                                      OLS Regression Results                                     \n",
       "=================================================================================================\n",
       "Dep. Variable:     Q('% linked to care within 3 months')   R-squared:                       0.014\n",
       "Model:                                               OLS   Adj. R-squared:                  0.014\n",
       "Method:                                    Least Squares   F-statistic:                     43.74\n",
       "Date:                                   Tue, 05 Nov 2019   Prob (F-statistic):           1.38e-19\n",
       "Time:                                           13:17:08   Log-Likelihood:                -72609.\n",
       "No. Observations:                                   6005   AIC:                         1.452e+05\n",
       "Df Residuals:                                       6002   BIC:                         1.452e+05\n",
       "Df Model:                                              2                                         \n",
       "Covariance Type:                               nonrobust                                         \n",
       "=======================================================================================\n",
       "                          coef    std err          t      P>|t|      [0.025      0.975]\n",
       "---------------------------------------------------------------------------------------\n",
       "Intercept            2.642e+04    568.350     46.490      0.000    2.53e+04    2.75e+04\n",
       "Q('HIV diagnoses')    -39.5467      4.260     -9.283      0.000     -47.898     -31.195\n",
       "Q('AIDS diagnoses')     0.7343      0.432      1.701      0.089      -0.112       1.580\n",
       "==============================================================================\n",
       "Omnibus:                     1228.682   Durbin-Watson:                   1.757\n",
       "Prob(Omnibus):                  0.000   Jarque-Bera (JB):             1376.706\n",
       "Skew:                           1.112   Prob(JB):                    1.13e-299\n",
       "Kurtosis:                       2.252   Cond. No.                     1.32e+03\n",
       "==============================================================================\n",
       "\n",
       "Warnings:\n",
       "[1] Standard Errors assume that the covariance matrix of the errors is correctly specified.\n",
       "[2] The condition number is large, 1.32e+03. This might indicate that there are\n",
       "strong multicollinearity or other numerical problems.\n",
       "\"\"\""
      ]
     },
     "execution_count": 21,
     "metadata": {},
     "output_type": "execute_result"
    }
   ],
   "source": [
    "lm = smf.ols(\"Q('% linked to care within 3 months') ~ Q('HIV diagnoses') + Q('AIDS diagnoses')\", data = hiv).fit()\n",
    "lm.summary()"
   ]
  },
  {
   "cell_type": "code",
   "execution_count": 29,
   "metadata": {},
   "outputs": [
    {
     "data": {
      "text/plain": [
       "Text(0.5, 1.0, '% Linked to Care Within 3 months linear regression')"
      ]
     },
     "execution_count": 29,
     "metadata": {},
     "output_type": "execute_result"
    },
    {
     "data": {
      "image/png": "[encoded data removed]",
      "text/plain": [
       "<Figure size 432x288 with 1 Axes>"
      ]
     },
     "metadata": {
      "needs_background": "light"
     },
     "output_type": "display_data"
    }
   ],
   "source": [
    "lm.resid.hist(bins = 30)\n",
    "plt.title(\"% Linked to Care Within 3 months linear regression\")"
   ]
  },
  {
   "cell_type": "code",
   "execution_count": 26,
   "metadata": {},
   "outputs": [
    {
     "data": {
      "text/plain": [
       "1862237876.6136696"
      ]
     },
     "execution_count": 26,
     "metadata": {},
     "output_type": "execute_result"
    }
   ],
   "source": [
    "((hiv[\"% linked to care within 3 months\"] - lm.fittedvalues)**2).mean()"
   ]
  },
  {
   "cell_type": "code",
   "execution_count": null,
   "metadata": {},
   "outputs": [],
   "source": []
  },
  {
   "cell_type": "code",
   "execution_count": null,
   "metadata": {},
   "outputs": [],
   "source": []
  },
  {
   "cell_type": "code",
   "execution_count": null,
   "metadata": {},
   "outputs": [],
   "source": []
  },
  {
   "cell_type": "code",
   "execution_count": null,
   "metadata": {},
   "outputs": [],
   "source": []
  },
  {
   "cell_type": "code",
   "execution_count": null,
   "metadata": {},
   "outputs": [],
   "source": []
  },
  {
   "cell_type": "code",
   "execution_count": null,
   "metadata": {},
   "outputs": [],
   "source": []
  },
  {
   "cell_type": "code",
   "execution_count": null,
   "metadata": {},
   "outputs": [],
   "source": []
  },
  {
   "cell_type": "code",
   "execution_count": null,
   "metadata": {},
   "outputs": [],
   "source": []
  },
  {
   "cell_type": "code",
   "execution_count": null,
   "metadata": {},
   "outputs": [],
   "source": []
  }
 ],
 "metadata": {
  "kernelspec": {
   "display_name": "Python 3",
   "language": "python",
   "name": "python3"
  },
  "language_info": {
   "codemirror_mode": {
    "name": "ipython",
    "version": 3
   },
   "file_extension": ".py",
   "mimetype": "text/x-python",
   "name": "python",
   "nbconvert_exporter": "python",
   "pygments_lexer": "ipython3",
   "version": "3.7.3"
  }
 },
 "nbformat": 4,
 "nbformat_minor": 2
}
