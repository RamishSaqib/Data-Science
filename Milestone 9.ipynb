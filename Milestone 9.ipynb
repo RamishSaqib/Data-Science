{
 "cells": [
  {
   "cell_type": "code",
   "execution_count": 1,
   "metadata": {},
   "outputs": [],
   "source": [
    "import pandas as pd\n",
    "import matplotlib.pyplot as plt\n",
    "import matplotlib.cm as cm\n",
    "from mpl_toolkits import mplot3d\n",
    "import seaborn as sns\n",
    "import numpy as np\n",
    "\n",
    "import scipy.cluster.hierarchy as shc\n",
    "\n",
    "from sklearn.preprocessing import MinMaxScaler\n",
    "\n",
    "from sklearn.cluster import AgglomerativeClustering\n",
    "from sklearn.cluster import KMeans\n",
    "\n",
    "from sklearn.metrics import confusion_matrix\n",
    "from sklearn.metrics import silhouette_score\n",
    "from sklearn.metrics import silhouette_samples\n",
    "\n",
    "from sklearn.decomposition import PCA\n",
    "\n",
    "from sklearn import datasets\n",
    "\n",
    "%matplotlib inline\n",
    "pd.set_option(\"display.max_columns\", None)"
   ]
  },
  {
   "cell_type": "code",
   "execution_count": 28,
   "metadata": {},
   "outputs": [
    {
     "data": {
      "text/html": [
       "<div>\n",
       "<style scoped>\n",
       "    .dataframe tbody tr th:only-of-type {\n",
       "        vertical-align: middle;\n",
       "    }\n",
       "\n",
       "    .dataframe tbody tr th {\n",
       "        vertical-align: top;\n",
       "    }\n",
       "\n",
       "    .dataframe thead th {\n",
       "        text-align: right;\n",
       "    }\n",
       "</style>\n",
       "<table border=\"1\" class=\"dataframe\">\n",
       "  <thead>\n",
       "    <tr style=\"text-align: right;\">\n",
       "      <th></th>\n",
       "      <th>Year</th>\n",
       "      <th>HIV diagnoses</th>\n",
       "      <th>HIV diagnosis rate</th>\n",
       "      <th>Concurrent diagnoses</th>\n",
       "      <th>% linked to care within 3 months</th>\n",
       "      <th>AIDS diagnoses</th>\n",
       "      <th>AIDS diagnosis rate</th>\n",
       "      <th>PLWDHI prevalence</th>\n",
       "      <th>% viral suppression</th>\n",
       "      <th>Deaths</th>\n",
       "      <th>Death rate</th>\n",
       "      <th>HIV-related death rate</th>\n",
       "      <th>Non-HIV-related death rate</th>\n",
       "    </tr>\n",
       "  </thead>\n",
       "  <tbody>\n",
       "    <tr>\n",
       "      <th>0</th>\n",
       "      <td>2011</td>\n",
       "      <td>3379</td>\n",
       "      <td>48.3</td>\n",
       "      <td>640</td>\n",
       "      <td>66</td>\n",
       "      <td>2366</td>\n",
       "      <td>33.8</td>\n",
       "      <td>1.1</td>\n",
       "      <td>71</td>\n",
       "      <td>2040</td>\n",
       "      <td>13.6</td>\n",
       "      <td>5.8</td>\n",
       "      <td>7.8</td>\n",
       "    </tr>\n",
       "    <tr>\n",
       "      <th>1</th>\n",
       "      <td>2011</td>\n",
       "      <td>2595</td>\n",
       "      <td>79.1</td>\n",
       "      <td>480</td>\n",
       "      <td>66</td>\n",
       "      <td>1712</td>\n",
       "      <td>52.2</td>\n",
       "      <td>1.7</td>\n",
       "      <td>72</td>\n",
       "      <td>1423</td>\n",
       "      <td>13.4</td>\n",
       "      <td>5.7</td>\n",
       "      <td>7.7</td>\n",
       "    </tr>\n",
       "    <tr>\n",
       "      <th>2</th>\n",
       "      <td>2011</td>\n",
       "      <td>733</td>\n",
       "      <td>21.1</td>\n",
       "      <td>153</td>\n",
       "      <td>66</td>\n",
       "      <td>622</td>\n",
       "      <td>17.6</td>\n",
       "      <td>0.6</td>\n",
       "      <td>68</td>\n",
       "      <td>605</td>\n",
       "      <td>14.0</td>\n",
       "      <td>6.0</td>\n",
       "      <td>8.0</td>\n",
       "    </tr>\n",
       "    <tr>\n",
       "      <th>3</th>\n",
       "      <td>2011</td>\n",
       "      <td>51</td>\n",
       "      <td>99999.0</td>\n",
       "      <td>7</td>\n",
       "      <td>63</td>\n",
       "      <td>32</td>\n",
       "      <td>99999.0</td>\n",
       "      <td>99999.0</td>\n",
       "      <td>55</td>\n",
       "      <td>12</td>\n",
       "      <td>11.1</td>\n",
       "      <td>5.7</td>\n",
       "      <td>5.4</td>\n",
       "    </tr>\n",
       "    <tr>\n",
       "      <th>4</th>\n",
       "      <td>2011</td>\n",
       "      <td>47</td>\n",
       "      <td>13.6</td>\n",
       "      <td>4</td>\n",
       "      <td>64</td>\n",
       "      <td>22</td>\n",
       "      <td>6.4</td>\n",
       "      <td>0.1</td>\n",
       "      <td>57</td>\n",
       "      <td>1</td>\n",
       "      <td>1.4</td>\n",
       "      <td>1.4</td>\n",
       "      <td>0.0</td>\n",
       "    </tr>\n",
       "  </tbody>\n",
       "</table>\n",
       "</div>"
      ],
      "text/plain": [
       "   Year  HIV diagnoses  HIV diagnosis rate  Concurrent diagnoses  \\\n",
       "0  2011           3379                48.3                   640   \n",
       "1  2011           2595                79.1                   480   \n",
       "2  2011            733                21.1                   153   \n",
       "3  2011             51             99999.0                     7   \n",
       "4  2011             47                13.6                     4   \n",
       "\n",
       "   % linked to care within 3 months  AIDS diagnoses  AIDS diagnosis rate  \\\n",
       "0                                66            2366                 33.8   \n",
       "1                                66            1712                 52.2   \n",
       "2                                66             622                 17.6   \n",
       "3                                63              32              99999.0   \n",
       "4                                64              22                  6.4   \n",
       "\n",
       "   PLWDHI prevalence  % viral suppression  Deaths  Death rate  \\\n",
       "0                1.1                   71    2040        13.6   \n",
       "1                1.7                   72    1423        13.4   \n",
       "2                0.6                   68     605        14.0   \n",
       "3            99999.0                   55      12        11.1   \n",
       "4                0.1                   57       1         1.4   \n",
       "\n",
       "   HIV-related death rate  Non-HIV-related death rate  \n",
       "0                     5.8                         7.8  \n",
       "1                     5.7                         7.7  \n",
       "2                     6.0                         8.0  \n",
       "3                     5.7                         5.4  \n",
       "4                     1.4                         0.0  "
      ]
     },
     "execution_count": 28,
     "metadata": {},
     "output_type": "execute_result"
    }
   ],
   "source": [
    "hiv = pd.read_csv(\"DOHMH_HIV_AIDS_Annual_Report.csv\")\n",
    "hiv\n",
    "hiv = hiv.drop(columns = ['Borough', 'UHF', 'Gender', 'Age', 'Race'])\n",
    "hiv.head()"
   ]
  },
  {
   "cell_type": "code",
   "execution_count": 24,
   "metadata": {},
   "outputs": [],
   "source": [
    "scaler = MinMaxScaler(feature_range=(0, 1))\n",
    "hiv_scaled = scaler.fit_transform(hiv)"
   ]
  },
  {
   "cell_type": "code",
   "execution_count": 25,
   "metadata": {},
   "outputs": [],
   "source": [
    "pca = PCA(n_components=2)\n",
    "pca.fit(hiv)\n",
    "hiv_rotated = pca.transform(hiv)"
   ]
  },
  {
   "cell_type": "code",
   "execution_count": 38,
   "metadata": {},
   "outputs": [
    {
     "data": {
      "text/html": [
       "<div>\n",
       "<style scoped>\n",
       "    .dataframe tbody tr th:only-of-type {\n",
       "        vertical-align: middle;\n",
       "    }\n",
       "\n",
       "    .dataframe tbody tr th {\n",
       "        vertical-align: top;\n",
       "    }\n",
       "\n",
       "    .dataframe thead th {\n",
       "        text-align: right;\n",
       "    }\n",
       "</style>\n",
       "<table border=\"1\" class=\"dataframe\">\n",
       "  <thead>\n",
       "    <tr style=\"text-align: right;\">\n",
       "      <th></th>\n",
       "      <th>PC1</th>\n",
       "      <th>PC2</th>\n",
       "      <th>% Linked to Care</th>\n",
       "    </tr>\n",
       "  </thead>\n",
       "  <tbody>\n",
       "    <tr>\n",
       "      <th>0</th>\n",
       "      <td>-29625.672359</td>\n",
       "      <td>-23885.529446</td>\n",
       "      <td>66</td>\n",
       "    </tr>\n",
       "    <tr>\n",
       "      <th>1</th>\n",
       "      <td>-29625.498729</td>\n",
       "      <td>-23886.219015</td>\n",
       "      <td>66</td>\n",
       "    </tr>\n",
       "    <tr>\n",
       "      <th>2</th>\n",
       "      <td>-29624.600774</td>\n",
       "      <td>-23887.385882</td>\n",
       "      <td>66</td>\n",
       "    </tr>\n",
       "    <tr>\n",
       "      <th>3</th>\n",
       "      <td>-29613.100202</td>\n",
       "      <td>-23175.695251</td>\n",
       "      <td>63</td>\n",
       "    </tr>\n",
       "    <tr>\n",
       "      <th>4</th>\n",
       "      <td>-29633.386234</td>\n",
       "      <td>-23890.842228</td>\n",
       "      <td>64</td>\n",
       "    </tr>\n",
       "  </tbody>\n",
       "</table>\n",
       "</div>"
      ],
      "text/plain": [
       "            PC1           PC2  % Linked to Care\n",
       "0 -29625.672359 -23885.529446                66\n",
       "1 -29625.498729 -23886.219015                66\n",
       "2 -29624.600774 -23887.385882                66\n",
       "3 -29613.100202 -23175.695251                63\n",
       "4 -29633.386234 -23890.842228                64"
      ]
     },
     "execution_count": 38,
     "metadata": {},
     "output_type": "execute_result"
    }
   ],
   "source": [
    "hiv_rotated_df = pd.DataFrame(hiv_rotated, columns = [\"PC1\",\"PC2\"])\n",
    "hiv_rotated_df[\"% Linked to Care\"] = hiv['% linked to care within 3 months']\n",
    "hiv_rotated_df.head()"
   ]
  },
  {
   "cell_type": "code",
   "execution_count": 39,
   "metadata": {},
   "outputs": [
    {
     "data": {
      "text/plain": [
       "<seaborn.axisgrid.FacetGrid at 0x1a2536e898>"
      ]
     },
     "execution_count": 39,
     "metadata": {},
     "output_type": "execute_result"
    },
    {
     "data": {
      "image/png": "[encoded data removed]",
      "text/plain": [
       "<Figure size 480.875x360 with 1 Axes>"
      ]
     },
     "metadata": {
      "needs_background": "light"
     },
     "output_type": "display_data"
    }
   ],
   "source": [
    "sns.relplot(x = 'PC1', y= 'PC2', hue = '% Linked to Care', data = hiv_rotated_df)"
   ]
  },
  {
   "cell_type": "code",
   "execution_count": 40,
   "metadata": {},
   "outputs": [],
   "source": [
    "pca2 = PCA(n_components=3)\n",
    "pca2.fit(hiv)\n",
    "hiv2_rotated = pca2.transform(hiv)"
   ]
  },
  {
   "cell_type": "code",
   "execution_count": 42,
   "metadata": {},
   "outputs": [],
   "source": [
    "kmeans = KMeans(n_clusters = 4)\n",
    "kmeans_clusters = kmeans.fit_predict(hiv_scaled)"
   ]
  },
  {
   "cell_type": "code",
   "execution_count": 43,
   "metadata": {},
   "outputs": [],
   "source": [
    "hiv2_rotated_df = pd.DataFrame(hiv2_rotated,columns = [\"PC1\",\"PC2\",\"PC3\"])\n",
    "hiv2_rotated_df[\"Cluster\"] = kmeans_clusters"
   ]
  },
  {
   "cell_type": "code",
   "execution_count": 44,
   "metadata": {},
   "outputs": [
    {
     "data": {
      "image/png": "[encoded data removed]",
      "text/plain": [
       "<Figure size 432x288 with 1 Axes>"
      ]
     },
     "metadata": {
      "needs_background": "light"
     },
     "output_type": "display_data"
    }
   ],
   "source": [
    "fig = plt.figure()\n",
    "ax = plt.axes(projection='3d')\n",
    "ax.scatter3D(hiv2_rotated_df[\"PC1\"], hiv2_rotated_df[\"PC2\"], hiv2_rotated_df[\"PC3\"]);"
   ]
  },
  {
   "cell_type": "code",
   "execution_count": null,
   "metadata": {},
   "outputs": [],
   "source": []
  }
 ],
 "metadata": {
  "kernelspec": {
   "display_name": "Python 3",
   "language": "python",
   "name": "python3"
  },
  "language_info": {
   "codemirror_mode": {
    "name": "ipython",
    "version": 3
   },
   "file_extension": ".py",
   "mimetype": "text/x-python",
   "name": "python",
   "nbconvert_exporter": "python",
   "pygments_lexer": "ipython3",
   "version": "3.7.3"
  }
 },
 "nbformat": 4,
 "nbformat_minor": 2
}
