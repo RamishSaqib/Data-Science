{
 "cells": [
  {
   "cell_type": "code",
   "execution_count": 9,
   "metadata": {},
   "outputs": [],
   "source": [
    "import pandas as pd\n",
    "import matplotlib.pyplot as plt\n",
    "\n",
    "from sklearn.preprocessing import MinMaxScaler\n",
    "    \n",
    "from sklearn.model_selection import train_test_split\n",
    "\n",
    "from sklearn.neighbors import KNeighborsClassifier\n",
    "from sklearn.neighbors import KNeighborsRegressor\n",
    "\n",
    "from sklearn.metrics import confusion_matrix\n",
    "\n",
    "from sklearn import tree\n",
    "import graphviz\n",
    "from graphviz import Source\n",
    " \n",
    "from sklearn.tree import export_graphviz\n",
    "\n",
    "%matplotlib inline\n",
    "pd.set_option('display.max_columns', None)"
   ]
  },
  {
   "cell_type": "code",
   "execution_count": 2,
   "metadata": {},
   "outputs": [],
   "source": [
    "hiv = pd.read_csv(\"DOHMH_HIV_AIDS_Annual_Report.csv\")"
   ]
  },
  {
   "cell_type": "code",
   "execution_count": 11,
   "metadata": {},
   "outputs": [
    {
     "data": {
      "text/html": [
       "<div>\n",
       "<style scoped>\n",
       "    .dataframe tbody tr th:only-of-type {\n",
       "        vertical-align: middle;\n",
       "    }\n",
       "\n",
       "    .dataframe tbody tr th {\n",
       "        vertical-align: top;\n",
       "    }\n",
       "\n",
       "    .dataframe thead th {\n",
       "        text-align: right;\n",
       "    }\n",
       "</style>\n",
       "<table border=\"1\" class=\"dataframe\">\n",
       "  <thead>\n",
       "    <tr style=\"text-align: right;\">\n",
       "      <th></th>\n",
       "      <th>HIV diagnoses</th>\n",
       "      <th>HIV diagnosis rate</th>\n",
       "      <th>Concurrent diagnoses</th>\n",
       "      <th>% linked to care within 3 months</th>\n",
       "      <th>AIDS diagnoses</th>\n",
       "      <th>AIDS diagnosis rate</th>\n",
       "      <th>PLWDHI prevalence</th>\n",
       "      <th>% viral suppression</th>\n",
       "      <th>Deaths</th>\n",
       "      <th>Death rate</th>\n",
       "      <th>HIV-related death rate</th>\n",
       "      <th>Non-HIV-related death rate</th>\n",
       "    </tr>\n",
       "  </thead>\n",
       "  <tbody>\n",
       "    <tr>\n",
       "      <th>count</th>\n",
       "      <td>6005.000000</td>\n",
       "      <td>6005.000000</td>\n",
       "      <td>6005.000000</td>\n",
       "      <td>6005.000000</td>\n",
       "      <td>6005.000000</td>\n",
       "      <td>6005.000000</td>\n",
       "      <td>6005.000000</td>\n",
       "      <td>6005.000000</td>\n",
       "      <td>6005.000000</td>\n",
       "      <td>6005.000000</td>\n",
       "      <td>6005.000000</td>\n",
       "      <td>6005.000000</td>\n",
       "    </tr>\n",
       "    <tr>\n",
       "      <th>mean</th>\n",
       "      <td>26.494588</td>\n",
       "      <td>119.501499</td>\n",
       "      <td>5.095087</td>\n",
       "      <td>25399.316403</td>\n",
       "      <td>33.299917</td>\n",
       "      <td>122.763697</td>\n",
       "      <td>317.515254</td>\n",
       "      <td>2655.912073</td>\n",
       "      <td>49.447460</td>\n",
       "      <td>10.341632</td>\n",
       "      <td>20003.185079</td>\n",
       "      <td>20005.061865</td>\n",
       "    </tr>\n",
       "    <tr>\n",
       "      <th>std</th>\n",
       "      <td>130.995148</td>\n",
       "      <td>2883.974280</td>\n",
       "      <td>24.492574</td>\n",
       "      <td>43470.652710</td>\n",
       "      <td>1292.863435</td>\n",
       "      <td>3159.088051</td>\n",
       "      <td>5616.414102</td>\n",
       "      <td>15846.355601</td>\n",
       "      <td>1826.287128</td>\n",
       "      <td>16.379212</td>\n",
       "      <td>40001.239238</td>\n",
       "      <td>40000.301359</td>\n",
       "    </tr>\n",
       "    <tr>\n",
       "      <th>min</th>\n",
       "      <td>0.000000</td>\n",
       "      <td>0.000000</td>\n",
       "      <td>0.000000</td>\n",
       "      <td>0.000000</td>\n",
       "      <td>0.000000</td>\n",
       "      <td>0.000000</td>\n",
       "      <td>0.000000</td>\n",
       "      <td>0.000000</td>\n",
       "      <td>0.000000</td>\n",
       "      <td>0.000000</td>\n",
       "      <td>0.000000</td>\n",
       "      <td>0.000000</td>\n",
       "    </tr>\n",
       "    <tr>\n",
       "      <th>25%</th>\n",
       "      <td>0.000000</td>\n",
       "      <td>0.000000</td>\n",
       "      <td>0.000000</td>\n",
       "      <td>67.000000</td>\n",
       "      <td>0.000000</td>\n",
       "      <td>0.000000</td>\n",
       "      <td>0.200000</td>\n",
       "      <td>71.000000</td>\n",
       "      <td>0.000000</td>\n",
       "      <td>0.000000</td>\n",
       "      <td>0.000000</td>\n",
       "      <td>0.000000</td>\n",
       "    </tr>\n",
       "    <tr>\n",
       "      <th>50%</th>\n",
       "      <td>3.000000</td>\n",
       "      <td>18.500000</td>\n",
       "      <td>1.000000</td>\n",
       "      <td>83.000000</td>\n",
       "      <td>2.000000</td>\n",
       "      <td>10.400000</td>\n",
       "      <td>0.600000</td>\n",
       "      <td>79.000000</td>\n",
       "      <td>1.000000</td>\n",
       "      <td>6.000000</td>\n",
       "      <td>3.000000</td>\n",
       "      <td>5.500000</td>\n",
       "    </tr>\n",
       "    <tr>\n",
       "      <th>75%</th>\n",
       "      <td>13.000000</td>\n",
       "      <td>49.400000</td>\n",
       "      <td>3.000000</td>\n",
       "      <td>99999.000000</td>\n",
       "      <td>8.000000</td>\n",
       "      <td>30.600000</td>\n",
       "      <td>1.500000</td>\n",
       "      <td>87.000000</td>\n",
       "      <td>8.000000</td>\n",
       "      <td>14.100000</td>\n",
       "      <td>14.400000</td>\n",
       "      <td>22.100000</td>\n",
       "    </tr>\n",
       "    <tr>\n",
       "      <th>max</th>\n",
       "      <td>3379.000000</td>\n",
       "      <td>99999.000000</td>\n",
       "      <td>640.000000</td>\n",
       "      <td>99999.000000</td>\n",
       "      <td>99999.000000</td>\n",
       "      <td>99999.000000</td>\n",
       "      <td>99999.000000</td>\n",
       "      <td>99999.000000</td>\n",
       "      <td>99999.000000</td>\n",
       "      <td>263.200000</td>\n",
       "      <td>99999.000000</td>\n",
       "      <td>99999.000000</td>\n",
       "    </tr>\n",
       "  </tbody>\n",
       "</table>\n",
       "</div>"
      ],
      "text/plain": [
       "       HIV diagnoses  HIV diagnosis rate  Concurrent diagnoses  \\\n",
       "count    6005.000000         6005.000000           6005.000000   \n",
       "mean       26.494588          119.501499              5.095087   \n",
       "std       130.995148         2883.974280             24.492574   \n",
       "min         0.000000            0.000000              0.000000   \n",
       "25%         0.000000            0.000000              0.000000   \n",
       "50%         3.000000           18.500000              1.000000   \n",
       "75%        13.000000           49.400000              3.000000   \n",
       "max      3379.000000        99999.000000            640.000000   \n",
       "\n",
       "       % linked to care within 3 months  AIDS diagnoses  AIDS diagnosis rate  \\\n",
       "count                       6005.000000     6005.000000          6005.000000   \n",
       "mean                       25399.316403       33.299917           122.763697   \n",
       "std                        43470.652710     1292.863435          3159.088051   \n",
       "min                            0.000000        0.000000             0.000000   \n",
       "25%                           67.000000        0.000000             0.000000   \n",
       "50%                           83.000000        2.000000            10.400000   \n",
       "75%                        99999.000000        8.000000            30.600000   \n",
       "max                        99999.000000    99999.000000         99999.000000   \n",
       "\n",
       "       PLWDHI prevalence  % viral suppression        Deaths   Death rate  \\\n",
       "count        6005.000000          6005.000000   6005.000000  6005.000000   \n",
       "mean          317.515254          2655.912073     49.447460    10.341632   \n",
       "std          5616.414102         15846.355601   1826.287128    16.379212   \n",
       "min             0.000000             0.000000      0.000000     0.000000   \n",
       "25%             0.200000            71.000000      0.000000     0.000000   \n",
       "50%             0.600000            79.000000      1.000000     6.000000   \n",
       "75%             1.500000            87.000000      8.000000    14.100000   \n",
       "max         99999.000000         99999.000000  99999.000000   263.200000   \n",
       "\n",
       "       HIV-related death rate  Non-HIV-related death rate  \n",
       "count             6005.000000                 6005.000000  \n",
       "mean             20003.185079                20005.061865  \n",
       "std              40001.239238                40000.301359  \n",
       "min                  0.000000                    0.000000  \n",
       "25%                  0.000000                    0.000000  \n",
       "50%                  3.000000                    5.500000  \n",
       "75%                 14.400000                   22.100000  \n",
       "max              99999.000000                99999.000000  "
      ]
     },
     "execution_count": 11,
     "metadata": {},
     "output_type": "execute_result"
    }
   ],
   "source": [
    "hiv[\"Year\"] = pd.to_datetime(hiv[\"Year\"])\n",
    "hiv.describe()"
   ]
  },
  {
   "cell_type": "code",
   "execution_count": 26,
   "metadata": {},
   "outputs": [
    {
     "data": {
      "text/html": [
       "<div>\n",
       "<style scoped>\n",
       "    .dataframe tbody tr th:only-of-type {\n",
       "        vertical-align: middle;\n",
       "    }\n",
       "\n",
       "    .dataframe tbody tr th {\n",
       "        vertical-align: top;\n",
       "    }\n",
       "\n",
       "    .dataframe thead th {\n",
       "        text-align: right;\n",
       "    }\n",
       "</style>\n",
       "<table border=\"1\" class=\"dataframe\">\n",
       "  <thead>\n",
       "    <tr style=\"text-align: right;\">\n",
       "      <th></th>\n",
       "      <th>HIV diagnoses</th>\n",
       "      <th>HIV diagnosis rate</th>\n",
       "      <th>Concurrent diagnoses</th>\n",
       "      <th>AIDS diagnoses</th>\n",
       "      <th>AIDS diagnosis rate</th>\n",
       "      <th>PLWDHI prevalence</th>\n",
       "      <th>% viral suppression</th>\n",
       "      <th>Deaths</th>\n",
       "      <th>Death rate</th>\n",
       "      <th>HIV-related death rate</th>\n",
       "      <th>Non-HIV-related death rate</th>\n",
       "    </tr>\n",
       "  </thead>\n",
       "  <tbody>\n",
       "    <tr>\n",
       "      <th>0</th>\n",
       "      <td>3379</td>\n",
       "      <td>48.3</td>\n",
       "      <td>640</td>\n",
       "      <td>2366</td>\n",
       "      <td>33.8</td>\n",
       "      <td>1.1</td>\n",
       "      <td>71</td>\n",
       "      <td>2040</td>\n",
       "      <td>13.6</td>\n",
       "      <td>5.8</td>\n",
       "      <td>7.8</td>\n",
       "    </tr>\n",
       "    <tr>\n",
       "      <th>1</th>\n",
       "      <td>2595</td>\n",
       "      <td>79.1</td>\n",
       "      <td>480</td>\n",
       "      <td>1712</td>\n",
       "      <td>52.2</td>\n",
       "      <td>1.7</td>\n",
       "      <td>72</td>\n",
       "      <td>1423</td>\n",
       "      <td>13.4</td>\n",
       "      <td>5.7</td>\n",
       "      <td>7.7</td>\n",
       "    </tr>\n",
       "    <tr>\n",
       "      <th>2</th>\n",
       "      <td>733</td>\n",
       "      <td>21.1</td>\n",
       "      <td>153</td>\n",
       "      <td>622</td>\n",
       "      <td>17.6</td>\n",
       "      <td>0.6</td>\n",
       "      <td>68</td>\n",
       "      <td>605</td>\n",
       "      <td>14.0</td>\n",
       "      <td>6.0</td>\n",
       "      <td>8.0</td>\n",
       "    </tr>\n",
       "    <tr>\n",
       "      <th>3</th>\n",
       "      <td>51</td>\n",
       "      <td>99999.0</td>\n",
       "      <td>7</td>\n",
       "      <td>32</td>\n",
       "      <td>99999.0</td>\n",
       "      <td>99999.0</td>\n",
       "      <td>55</td>\n",
       "      <td>12</td>\n",
       "      <td>11.1</td>\n",
       "      <td>5.7</td>\n",
       "      <td>5.4</td>\n",
       "    </tr>\n",
       "    <tr>\n",
       "      <th>4</th>\n",
       "      <td>47</td>\n",
       "      <td>13.6</td>\n",
       "      <td>4</td>\n",
       "      <td>22</td>\n",
       "      <td>6.4</td>\n",
       "      <td>0.1</td>\n",
       "      <td>57</td>\n",
       "      <td>1</td>\n",
       "      <td>1.4</td>\n",
       "      <td>1.4</td>\n",
       "      <td>0.0</td>\n",
       "    </tr>\n",
       "  </tbody>\n",
       "</table>\n",
       "</div>"
      ],
      "text/plain": [
       "   HIV diagnoses  HIV diagnosis rate  Concurrent diagnoses  AIDS diagnoses  \\\n",
       "0           3379                48.3                   640            2366   \n",
       "1           2595                79.1                   480            1712   \n",
       "2            733                21.1                   153             622   \n",
       "3             51             99999.0                     7              32   \n",
       "4             47                13.6                     4              22   \n",
       "\n",
       "   AIDS diagnosis rate  PLWDHI prevalence  % viral suppression  Deaths  \\\n",
       "0                 33.8                1.1                   71    2040   \n",
       "1                 52.2                1.7                   72    1423   \n",
       "2                 17.6                0.6                   68     605   \n",
       "3              99999.0            99999.0                   55      12   \n",
       "4                  6.4                0.1                   57       1   \n",
       "\n",
       "   Death rate  HIV-related death rate  Non-HIV-related death rate  \n",
       "0        13.6                     5.8                         7.8  \n",
       "1        13.4                     5.7                         7.7  \n",
       "2        14.0                     6.0                         8.0  \n",
       "3        11.1                     5.7                         5.4  \n",
       "4         1.4                     1.4                         0.0  "
      ]
     },
     "execution_count": 26,
     "metadata": {},
     "output_type": "execute_result"
    }
   ],
   "source": [
    "X = hiv.drop(columns = [\"% linked to care within 3 months\",\"Year\",\"Borough\",\"UHF\",\"Gender\",\"Age\",\"Race\"])\n",
    "X.head()"
   ]
  },
  {
   "cell_type": "code",
   "execution_count": 27,
   "metadata": {},
   "outputs": [],
   "source": [
    "y = hiv[\"% linked to care within 3 months\"]"
   ]
  },
  {
   "cell_type": "code",
   "execution_count": 28,
   "metadata": {},
   "outputs": [],
   "source": [
    "X_train, X_test, y_train, y_test = train_test_split(X, y, test_size = 0.2)"
   ]
  },
  {
   "cell_type": "code",
   "execution_count": 37,
   "metadata": {},
   "outputs": [],
   "source": [
    "reg = tree.DecisionTreeRegressor(max_depth = 2)\n",
    "reg = reg.fit(X_train,y_train)\n",
    "y_pred = reg.predict(X_test)"
   ]
  },
  {
   "cell_type": "code",
   "execution_count": 38,
   "metadata": {},
   "outputs": [
    {
     "data": {
      "image/png": "[encoded data removed]",
      "text/plain": [
       "<Figure size 432x288 with 1 Axes>"
      ]
     },
     "metadata": {
      "needs_background": "light"
     },
     "output_type": "display_data"
    }
   ],
   "source": [
    "tree.plot_tree(reg);"
   ]
  },
  {
   "cell_type": "code",
   "execution_count": 42,
   "metadata": {},
   "outputs": [
    {
     "data": {
      "text/plain": [
       "488.8400910422261"
      ]
     },
     "execution_count": 42,
     "metadata": {},
     "output_type": "execute_result"
    }
   ],
   "source": [
    "((y_test - y_pred)**2).mean()"
   ]
  },
  {
   "cell_type": "code",
   "execution_count": 35,
   "metadata": {},
   "outputs": [],
   "source": [
    "knn_mses = []\n",
    "for k in range(1,21):\n",
    "    knn_scaled = KNeighborsRegressor(n_neighbors = k)\n",
    "    knn_scaled.fit(X_train_scaled, y_train)\n",
    "    y_pred_scaled = knn_scaled.predict(X_test_scaled)\n",
    "    mse = ((y_test - y_pred_scaled)**2).mean()\n",
    "    knn_mses.append(mse)"
   ]
  },
  {
   "cell_type": "code",
   "execution_count": 36,
   "metadata": {},
   "outputs": [
    {
     "data": {
      "text/plain": [
       "Text(0, 0.5, 'Mean Squared Error')"
      ]
     },
     "execution_count": 36,
     "metadata": {},
     "output_type": "execute_result"
    },
    {
     "data": {
      "image/png": "[encoded data removed]",
      "text/plain": [
       "<Figure size 432x288 with 1 Axes>"
      ]
     },
     "metadata": {
      "needs_background": "light"
     },
     "output_type": "display_data"
    }
   ],
   "source": [
    "plt.plot(range(1,21),knn_mses)\n",
    "plt.title(\"Mean Squared Error for k-nearest neighbors with scaled data\")\n",
    "plt.xlabel(\"k\")\n",
    "plt.ylabel(\"Mean Squared Error\")"
   ]
  },
  {
   "cell_type": "code",
   "execution_count": null,
   "metadata": {},
   "outputs": [],
   "source": []
  }
 ],
 "metadata": {
  "kernelspec": {
   "display_name": "Python 3",
   "language": "python",
   "name": "python3"
  },
  "language_info": {
   "codemirror_mode": {
    "name": "ipython",
    "version": 3
   },
   "file_extension": ".py",
   "mimetype": "text/x-python",
   "name": "python",
   "nbconvert_exporter": "python",
   "pygments_lexer": "ipython3",
   "version": "3.7.3"
  }
 },
 "nbformat": 4,
 "nbformat_minor": 2
}
