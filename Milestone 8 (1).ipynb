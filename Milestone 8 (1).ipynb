{
 "cells": [
  {
   "cell_type": "code",
   "execution_count": 1,
   "metadata": {},
   "outputs": [],
   "source": [
    "import pandas as pd\n",
    "import matplotlib.pyplot as plt\n",
    "import seaborn as sns\n",
    "import numpy as np\n",
    "\n",
    "import scipy.cluster.hierarchy as shc\n",
    "\n",
    "from sklearn.tree import DecisionTreeClassifier\n",
    "from sklearn import preprocessing\n",
    "from sklearn.neighbors import KNeighborsRegressor\n",
    "from sklearn.neighbors import KNeighborsClassifier\n",
    "from sklearn.preprocessing import MinMaxScaler\n",
    "from sklearn import tree\n",
    "from sklearn.metrics import confusion_matrix \n",
    "from sklearn import datasets, linear_model\n",
    "from sklearn.model_selection import train_test_split\n",
    "from sklearn.cluster import KMeans\n",
    "from sklearn.metrics import mean_squared_error\n",
    "\n",
    "%matplotlib inline\n",
    "pd.set_option(\"display.max_columns\", None)"
   ]
  },
  {
   "cell_type": "code",
   "execution_count": 2,
   "metadata": {},
   "outputs": [],
   "source": [
    "hiv = pd.read_csv(\"DOHMH_HIV_AIDS_Annual_Report.csv\")"
   ]
  },
  {
   "cell_type": "code",
   "execution_count": 3,
   "metadata": {},
   "outputs": [],
   "source": [
    "hiv[\"Year\"] = pd.to_datetime(hiv[\"Year\"])\n"
   ]
  },
  {
   "cell_type": "code",
   "execution_count": 4,
   "metadata": {},
   "outputs": [
    {
     "data": {
      "text/html": [
       "<div>\n",
       "<style scoped>\n",
       "    .dataframe tbody tr th:only-of-type {\n",
       "        vertical-align: middle;\n",
       "    }\n",
       "\n",
       "    .dataframe tbody tr th {\n",
       "        vertical-align: top;\n",
       "    }\n",
       "\n",
       "    .dataframe thead th {\n",
       "        text-align: right;\n",
       "    }\n",
       "</style>\n",
       "<table border=\"1\" class=\"dataframe\">\n",
       "  <thead>\n",
       "    <tr style=\"text-align: right;\">\n",
       "      <th></th>\n",
       "      <th>HIV diagnoses</th>\n",
       "      <th>HIV diagnosis rate</th>\n",
       "      <th>Concurrent diagnoses</th>\n",
       "      <th>AIDS diagnoses</th>\n",
       "      <th>AIDS diagnosis rate</th>\n",
       "      <th>PLWDHI prevalence</th>\n",
       "      <th>% viral suppression</th>\n",
       "      <th>Deaths</th>\n",
       "      <th>Death rate</th>\n",
       "      <th>HIV-related death rate</th>\n",
       "      <th>Non-HIV-related death rate</th>\n",
       "    </tr>\n",
       "  </thead>\n",
       "  <tbody>\n",
       "    <tr>\n",
       "      <th>0</th>\n",
       "      <td>3379</td>\n",
       "      <td>48.3</td>\n",
       "      <td>640</td>\n",
       "      <td>2366</td>\n",
       "      <td>33.8</td>\n",
       "      <td>1.1</td>\n",
       "      <td>71</td>\n",
       "      <td>2040</td>\n",
       "      <td>13.6</td>\n",
       "      <td>5.8</td>\n",
       "      <td>7.8</td>\n",
       "    </tr>\n",
       "    <tr>\n",
       "      <th>1</th>\n",
       "      <td>2595</td>\n",
       "      <td>79.1</td>\n",
       "      <td>480</td>\n",
       "      <td>1712</td>\n",
       "      <td>52.2</td>\n",
       "      <td>1.7</td>\n",
       "      <td>72</td>\n",
       "      <td>1423</td>\n",
       "      <td>13.4</td>\n",
       "      <td>5.7</td>\n",
       "      <td>7.7</td>\n",
       "    </tr>\n",
       "    <tr>\n",
       "      <th>2</th>\n",
       "      <td>733</td>\n",
       "      <td>21.1</td>\n",
       "      <td>153</td>\n",
       "      <td>622</td>\n",
       "      <td>17.6</td>\n",
       "      <td>0.6</td>\n",
       "      <td>68</td>\n",
       "      <td>605</td>\n",
       "      <td>14.0</td>\n",
       "      <td>6.0</td>\n",
       "      <td>8.0</td>\n",
       "    </tr>\n",
       "    <tr>\n",
       "      <th>3</th>\n",
       "      <td>51</td>\n",
       "      <td>99999.0</td>\n",
       "      <td>7</td>\n",
       "      <td>32</td>\n",
       "      <td>99999.0</td>\n",
       "      <td>99999.0</td>\n",
       "      <td>55</td>\n",
       "      <td>12</td>\n",
       "      <td>11.1</td>\n",
       "      <td>5.7</td>\n",
       "      <td>5.4</td>\n",
       "    </tr>\n",
       "    <tr>\n",
       "      <th>4</th>\n",
       "      <td>47</td>\n",
       "      <td>13.6</td>\n",
       "      <td>4</td>\n",
       "      <td>22</td>\n",
       "      <td>6.4</td>\n",
       "      <td>0.1</td>\n",
       "      <td>57</td>\n",
       "      <td>1</td>\n",
       "      <td>1.4</td>\n",
       "      <td>1.4</td>\n",
       "      <td>0.0</td>\n",
       "    </tr>\n",
       "  </tbody>\n",
       "</table>\n",
       "</div>"
      ],
      "text/plain": [
       "   HIV diagnoses  HIV diagnosis rate  Concurrent diagnoses  AIDS diagnoses  \\\n",
       "0           3379                48.3                   640            2366   \n",
       "1           2595                79.1                   480            1712   \n",
       "2            733                21.1                   153             622   \n",
       "3             51             99999.0                     7              32   \n",
       "4             47                13.6                     4              22   \n",
       "\n",
       "   AIDS diagnosis rate  PLWDHI prevalence  % viral suppression  Deaths  \\\n",
       "0                 33.8                1.1                   71    2040   \n",
       "1                 52.2                1.7                   72    1423   \n",
       "2                 17.6                0.6                   68     605   \n",
       "3              99999.0            99999.0                   55      12   \n",
       "4                  6.4                0.1                   57       1   \n",
       "\n",
       "   Death rate  HIV-related death rate  Non-HIV-related death rate  \n",
       "0        13.6                     5.8                         7.8  \n",
       "1        13.4                     5.7                         7.7  \n",
       "2        14.0                     6.0                         8.0  \n",
       "3        11.1                     5.7                         5.4  \n",
       "4         1.4                     1.4                         0.0  "
      ]
     },
     "execution_count": 4,
     "metadata": {},
     "output_type": "execute_result"
    }
   ],
   "source": [
    "X = hiv.drop(columns = [\"% linked to care within 3 months\",\"Year\",\"Borough\",\"UHF\",\"Gender\",\"Age\",\"Race\"])\n",
    "X.head()"
   ]
  },
  {
   "cell_type": "code",
   "execution_count": 5,
   "metadata": {},
   "outputs": [],
   "source": [
    "y = hiv[\"% linked to care within 3 months\"]"
   ]
  },
  {
   "cell_type": "code",
   "execution_count": 6,
   "metadata": {},
   "outputs": [],
   "source": [
    "X_train, X_test, y_train, y_test = train_test_split(X, y, test_size = 0.2)"
   ]
  },
  {
   "cell_type": "code",
   "execution_count": 7,
   "metadata": {},
   "outputs": [
    {
     "data": {
      "text/plain": [
       "array([99999,    75,    75, ...,    75,    62,    33])"
      ]
     },
     "execution_count": 7,
     "metadata": {},
     "output_type": "execute_result"
    }
   ],
   "source": [
    "k3nn = KNeighborsClassifier(n_neighbors = 3)\n",
    "k3nn.fit(X_train, y_train)\n",
    "y_pred = k3nn.predict(X_test)\n",
    "y_pred"
   ]
  },
  {
   "cell_type": "code",
   "execution_count": 8,
   "metadata": {},
   "outputs": [
    {
     "data": {
      "text/plain": [
       "315917656.9009159"
      ]
     },
     "execution_count": 8,
     "metadata": {},
     "output_type": "execute_result"
    }
   ],
   "source": [
    "((y_test - y_pred)**2).mean()"
   ]
  },
  {
   "cell_type": "code",
   "execution_count": 12,
   "metadata": {},
   "outputs": [],
   "source": [
    "scaler = MinMaxScaler(feature_range=(0, 1))\n",
    "X_train_hiv = scaler.fit_transform(X_train)\n",
    "X_test_hiv = scaler.fit_transform(X_test)"
   ]
  },
  {
   "cell_type": "code",
   "execution_count": 13,
   "metadata": {},
   "outputs": [],
   "source": [
    "knn_mses = []\n",
    "for k in range(1,21):\n",
    "    knn_scaled = KNeighborsRegressor(n_neighbors = k)\n",
    "    knn_scaled.fit(X_train_hiv, y_train)\n",
    "    y_pred_scaled = knn_scaled.predict(X_test_hiv)\n",
    "    mse = ((y_test - y_pred_scaled)**2).mean()\n",
    "    knn_mses.append(mse)"
   ]
  },
  {
   "cell_type": "code",
   "execution_count": 14,
   "metadata": {},
   "outputs": [
    {
     "data": {
      "text/plain": [
       "Text(0, 0.5, 'Mean Squared Error')"
      ]
     },
     "execution_count": 14,
     "metadata": {},
     "output_type": "execute_result"
    },
    {
     "data": {
      "image/png": "[encoded data removed]",
      "text/plain": [
       "<Figure size 432x288 with 1 Axes>"
      ]
     },
     "metadata": {
      "needs_background": "light"
     },
     "output_type": "display_data"
    }
   ],
   "source": [
    "plt.plot(range(1,21),knn_mses)\n",
    "plt.title(\"Mean Squared Error for k-nearest neighbors with scaled data\")\n",
    "plt.xlabel(\"k\")\n",
    "plt.ylabel(\"Mean Squared Error\")"
   ]
  },
  {
   "cell_type": "code",
   "execution_count": null,
   "metadata": {},
   "outputs": [],
   "source": []
  }
 ],
 "metadata": {
  "kernelspec": {
   "display_name": "Python 3",
   "language": "python",
   "name": "python3"
  },
  "language_info": {
   "codemirror_mode": {
    "name": "ipython",
    "version": 3
   },
   "file_extension": ".py",
   "mimetype": "text/x-python",
   "name": "python",
   "nbconvert_exporter": "python",
   "pygments_lexer": "ipython3",
   "version": "3.7.3"
  }
 },
 "nbformat": 4,
 "nbformat_minor": 2
}
